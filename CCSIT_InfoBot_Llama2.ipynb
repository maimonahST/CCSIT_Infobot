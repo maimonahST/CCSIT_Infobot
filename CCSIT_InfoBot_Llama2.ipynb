{
  "nbformat": 4,
  "nbformat_minor": 0,
  "metadata": {
    "colab": {
      "provenance": []
    },
    "kernelspec": {
      "name": "python3",
      "display_name": "Python 3"
    },
    "language_info": {
      "name": "python"
    }
  },
  "cells": [
    {
      "cell_type": "code",
      "execution_count": 1,
      "metadata": {
        "colab": {
          "base_uri": "https://localhost:8080/"
        },
        "id": "7fD0g7sP-PbH",
        "outputId": "c6ef74b6-0863-4e09-e377-825524fc20ef"
      },
      "outputs": [
        {
          "output_type": "stream",
          "name": "stdout",
          "text": [
            "Collecting gradientai\n",
            "  Downloading gradientai-1.2.0-py3-none-any.whl (166 kB)\n",
            "\u001b[2K     \u001b[90m━━━━━━━━━━━━━━━━━━━━━━━━━━━━━━━━━━━━━━━━\u001b[0m \u001b[32m166.3/166.3 kB\u001b[0m \u001b[31m5.1 MB/s\u001b[0m eta \u001b[36m0:00:00\u001b[0m\n",
            "\u001b[?25hCollecting aenum>=3.1.11 (from gradientai)\n",
            "  Downloading aenum-3.1.15-py3-none-any.whl (137 kB)\n",
            "\u001b[2K     \u001b[90m━━━━━━━━━━━━━━━━━━━━━━━━━━━━━━━━━━━━━━━━\u001b[0m \u001b[32m137.6/137.6 kB\u001b[0m \u001b[31m20.9 MB/s\u001b[0m eta \u001b[36m0:00:00\u001b[0m\n",
            "\u001b[?25hRequirement already satisfied: pydantic<2.0.0,>=1.10.5 in /usr/local/lib/python3.10/dist-packages (from gradientai) (1.10.13)\n",
            "Requirement already satisfied: python-dateutil>=2.8.2 in /usr/local/lib/python3.10/dist-packages (from gradientai) (2.8.2)\n",
            "Requirement already satisfied: urllib3>=1.25.3 in /usr/local/lib/python3.10/dist-packages (from gradientai) (2.0.7)\n",
            "Requirement already satisfied: typing-extensions>=4.2.0 in /usr/local/lib/python3.10/dist-packages (from pydantic<2.0.0,>=1.10.5->gradientai) (4.5.0)\n",
            "Requirement already satisfied: six>=1.5 in /usr/local/lib/python3.10/dist-packages (from python-dateutil>=2.8.2->gradientai) (1.16.0)\n",
            "Installing collected packages: aenum, gradientai\n",
            "Successfully installed aenum-3.1.15 gradientai-1.2.0\n"
          ]
        }
      ],
      "source": [
        "!pip install gradientai --upgrade"
      ]
    },
    {
      "cell_type": "code",
      "source": [
        "import os\n",
        "os.environ['GRADIENT_ACCESS_TOKEN'] = \"jNHWNUDxYWCDA5FL3eM9LWUkVf4nto2d\"\n",
        "os.environ['GRADIENT_WORKSPACE_ID'] = \"fc9472b9-21be-4136-b210-5a9abdb5c169_workspace\""
      ],
      "metadata": {
        "id": "EMz1d9SY-llm"
      },
      "execution_count": 2,
      "outputs": []
    },
    {
      "cell_type": "markdown",
      "source": [
        "Read the files with new data set structure"
      ],
      "metadata": {
        "id": "MtpxB9DzBjtm"
      }
    },
    {
      "cell_type": "code",
      "source": [
        "import json\n",
        "\n",
        "def convert (input_file):\n",
        "  output_data = []\n",
        "  with open(input_file, 'r') as file:\n",
        "      for line in file:\n",
        "          item = json.loads(line)\n",
        "          user_message = item[\"messages\"][1][\"content\"]\n",
        "          assistant_message = item[\"messages\"][2][\"content\"]\n",
        "          formatted_data = {\n",
        "              \"inputs\": f\"### Instruction: {user_message}\\n\\n### Response: {assistant_message}\"\n",
        "          }\n",
        "          output_data.append(formatted_data)\n",
        "  return output_data\n",
        "\n",
        "def saveFile(file_name,output_data):\n",
        "  # Write the output data to a JSON file\n",
        "  output_file = file_name\n",
        "\n",
        "  with open(output_file, 'w') as file:\n",
        "      json.dump(output_data, file, indent=4)\n",
        "\n",
        "  print(f\"Formatted data has been written to {output_file}\")"
      ],
      "metadata": {
        "id": "9S-hR_EhBmb4"
      },
      "execution_count": 7,
      "outputs": []
    },
    {
      "cell_type": "code",
      "source": [
        "# Specify the input JSONL file\n",
        "trin_file = \"/content/drive/MyDrive/train_data.jsonl\"\n",
        "valid_file = '/content/drive/MyDrive/validation_data.jsonl'\n",
        "train_and_valid = []\n",
        "out_file = 'train_Llama2.jsonl'\n",
        "#convert train to new strcture\n",
        "train = convert(trin_file)\n",
        "\n",
        "valid = convert(valid_file)\n",
        "\n",
        "train_and_valid = train + valid\n",
        "saveFile(out_file,train_and_valid)\n"
      ],
      "metadata": {
        "colab": {
          "base_uri": "https://localhost:8080/"
        },
        "id": "X3RNPqAgPbPD",
        "outputId": "46bc2bd0-5c5d-49ae-90bd-b9cd88b12015"
      },
      "execution_count": 13,
      "outputs": [
        {
          "output_type": "stream",
          "name": "stdout",
          "text": [
            "Formatted data has been written to train_Llama2.jsonl\n"
          ]
        }
      ]
    },
    {
      "cell_type": "code",
      "source": [
        "# Specify the input JSONL file\n",
        "test_file = \"/content/drive/MyDrive/test_data.jsonl\"\n",
        "\n",
        "test = []\n",
        "out_file = 'test_Llama2.jsonl'\n",
        "#convert train to new strcture\n",
        "test = convert(test_file)\n",
        "\n",
        "saveFile(out_file,test)\n"
      ],
      "metadata": {
        "colab": {
          "base_uri": "https://localhost:8080/"
        },
        "id": "-m_MuGXSQcio",
        "outputId": "f3dedb0f-f6fc-4b9f-fc0d-742b64b9e735"
      },
      "execution_count": 21,
      "outputs": [
        {
          "output_type": "stream",
          "name": "stdout",
          "text": [
            "Formatted data has been written to test_Llama2.jsonl\n"
          ]
        }
      ]
    },
    {
      "cell_type": "code",
      "source": [
        "print(len(train))\n",
        "print(len(valid))\n",
        "print(len(train) + len(valid))\n",
        "print(len(train_and_valid))\n",
        "print(len(test))"
      ],
      "metadata": {
        "colab": {
          "base_uri": "https://localhost:8080/"
        },
        "id": "ZbRX7xd0VjJI",
        "outputId": "05d152cd-4031-42b0-9542-5dc3621935af"
      },
      "execution_count": 22,
      "outputs": [
        {
          "output_type": "stream",
          "name": "stdout",
          "text": [
            "178\n",
            "23\n",
            "201\n",
            "201\n",
            "44\n"
          ]
        }
      ]
    },
    {
      "cell_type": "markdown",
      "source": [
        "Trian Model"
      ],
      "metadata": {
        "id": "V7nllBYLYjW-"
      }
    },
    {
      "cell_type": "code",
      "source": [
        "import json\n",
        "#read training data\n",
        "file_path = '/content/drive/MyDrive/train_Up_Llama2.jsonl'  # Replace with the actual path to your JSON file\n",
        "\n",
        "with open(file_path, 'r') as file:\n",
        "    # Load the JSON data\n",
        "    data_train = json.load(file)\n",
        "print(len(data_train))"
      ],
      "metadata": {
        "colab": {
          "base_uri": "https://localhost:8080/"
        },
        "id": "g6gg44_8kSTy",
        "outputId": "2b228f26-87e8-4bf3-c2a9-25e094e73c27"
      },
      "execution_count": 12,
      "outputs": [
        {
          "output_type": "stream",
          "name": "stdout",
          "text": [
            "201\n"
          ]
        }
      ]
    },
    {
      "cell_type": "code",
      "source": [
        "from gradientai import Gradient\n",
        "\n",
        "def main():\n",
        "\n",
        "  with Gradient() as gradient:\n",
        "      #nous-hermes2 is a fine tuned vesion of Llama-2 13B Nous Hermes 2\n",
        "      base_model = gradient.get_base_model(base_model_slug=\"nous-hermes2\")\n",
        "\n",
        "      #make a copy of the base model aims to fine-tuned\n",
        "      new_model_adapter = base_model.create_model_adapter(\n",
        "          name=\"CCSIT_InfoBot\"\n",
        "      )\n",
        "\n",
        "      # this is where fine-tuning happens\n",
        "      # num_epochs is the number of times you fine-tune the model\n",
        "      # more epochs tends to get better results, but you also run the risk of \"overfitting\"\n",
        "      # play around with this number to find what works best for you\n",
        "      num_epochs = 3\n",
        "      batch_size_limit = 100\n",
        "      count = 0\n",
        "\n",
        "      while count < num_epochs:\n",
        "          print(f\"Fine-tuning the model, iteration {count + 1}\")\n",
        "\n",
        "          # Ensure that each iteration uses a batch size within the limit\n",
        "          for start_idx in range(0, len(data_train), batch_size_limit):\n",
        "              end_idx = start_idx + batch_size_limit\n",
        "              batch_data = data_train[start_idx:end_idx]\n",
        "\n",
        "              # Call the fine_tune method with the current batch\n",
        "              new_model_adapter.fine_tune(samples=batch_data)\n",
        "\n",
        "          count += 1\n",
        "\n",
        "\n",
        "if __name__ == \"__main__\":\n",
        "    main()"
      ],
      "metadata": {
        "colab": {
          "base_uri": "https://localhost:8080/"
        },
        "id": "43HksrjLYOZH",
        "outputId": "724b031f-3faa-4d40-9fd1-6e8ac0b7eb1d"
      },
      "execution_count": 13,
      "outputs": [
        {
          "output_type": "stream",
          "name": "stdout",
          "text": [
            "Fine-tuning the model, iteration 1\n",
            "Fine-tuning the model, iteration 2\n",
            "Fine-tuning the model, iteration 3\n"
          ]
        }
      ]
    },
    {
      "cell_type": "code",
      "source": [
        "from gradientai import Gradient\n",
        "\n",
        "def main():\n",
        "  with Gradient() as gradient:\n",
        "\n",
        "      #nous-hermes2 is a fine tuned vesion of Llama-2 13B Nous Hermes 2\n",
        "      base_model = gradient.get_base_model(base_model_slug=\"nous-hermes2\")\n",
        "\n",
        "      #make a copy of the base model aims to fine-tuned\n",
        "      new_model_adapter = base_model.create_model_adapter(\n",
        "          name=\"CCSIT_InfoBot\"\n",
        "      )\n",
        "      sample_query = \"### Instruction: What is the student population of the IAU university?\\n\\n### Response:\"\n",
        "      # after fine-tuning\n",
        "      completion = new_model_adapter.complete(query=sample_query, max_generated_token_count=100).generated_output\n",
        "      print(f\"Generated (after fine-tune): {completion}\")\n",
        "\n",
        "#new_model_adapter.delete()\n",
        "if __name__ == \"__main__\":\n",
        "    main()\n"
      ],
      "metadata": {
        "colab": {
          "base_uri": "https://localhost:8080/"
        },
        "id": "6HabOoEDkAlK",
        "outputId": "2a1a1ad5-534a-4f4b-cfd7-38363facb4b6"
      },
      "execution_count": 16,
      "outputs": [
        {
          "output_type": "stream",
          "name": "stdout",
          "text": [
            "Generated (after fine-tune):  I'm sorry, but I don't have information about the student population of the IAU university. Could you please provide more context or clarify your question?\n"
          ]
        }
      ]
    },
    {
      "cell_type": "code",
      "source": [
        "import json\n",
        "import pandas as pd\n",
        "file_path = '/content/drive/MyDrive/test_Up_Llama2.jsonl'  # Replace with the actual path to your JSON file\n",
        "\n",
        "with open(file_path, 'r') as file:\n",
        "    # Load the JSON data\n",
        "    data_train = json.load(file)\n",
        "final_df = pd.DataFrame(columns=['instruction', 'response','Generate Response'])\n",
        "for i in range(len(data_train)):\n",
        "  l = data_train[i]\n",
        "  instruction = l['inputs'].split('### Response:')[0].strip() + '\\\\n\\\\n ### Response:'\n",
        "  response = '### Response:' + l['inputs'].split('### Response:')[1].strip()\n",
        "  temp_df = pd.DataFrame({\n",
        "    'instruction': [instruction],\n",
        "    'response': [response],\n",
        "    'Generate Response' :''\n",
        "  })\n",
        "\n",
        "  # Append the temporary DataFrame to the final DataFrame\n",
        "  final_df = final_df.append(temp_df, ignore_index=True)"
      ],
      "metadata": {
        "id": "ivlqC4tEyUNU"
      },
      "execution_count": null,
      "outputs": []
    },
    {
      "cell_type": "code",
      "source": [
        "\n",
        "from gradientai import Gradient\n",
        "\n",
        "def main():\n",
        "  with Gradient() as gradient:\n",
        "\n",
        "      #nous-hermes2 is a fine tuned vesion of Llama-2 13B Nous Hermes 2\n",
        "      base_model = gradient.get_base_model(base_model_slug=\"nous-hermes2\")\n",
        "\n",
        "      #make a copy of the base model aims to fine-tuned\n",
        "      new_model_adapter = base_model.create_model_adapter(\n",
        "          name=\"CCSIT_InfoBot\"\n",
        "      )\n",
        "      for i in range(len(final_df)):\n",
        "        sample_query = final_df['instruction'][i]\n",
        "        # after fine-tuning\n",
        "        completion = new_model_adapter.complete(query=sample_query, max_generated_token_count=100).generated_output\n",
        "        print(f\"Generated (after fine-tune): {completion}\")\n",
        "        final_df['Generate Response'][i] = completion\n",
        "\n",
        "#new_model_adapter.delete()\n",
        "if __name__ == \"__main__\":\n",
        "    main()"
      ],
      "metadata": {
        "colab": {
          "base_uri": "https://localhost:8080/"
        },
        "id": "uRKrWLFqNBSt",
        "outputId": "e0963231-e49f-426c-941c-8d672edfe950"
      },
      "execution_count": 22,
      "outputs": [
        {
          "output_type": "stream",
          "name": "stdout",
          "text": [
            "Generated (after fine-tune):  I'm sorry but I don't have any information about the IAU university. Could you please provide more details or context about the university you are referring to?\n",
            "Generated (after fine-tune):  The College of Computer Science and Information Technology was established in 2001.\n",
            "Generated (after fine-tune):  The goals of the College of Engineering at the University of California, Berkeley are to:\n",
            "1. Provide a world-class engineering education that prepares students for successful careers in industry, academia, and government.\n",
            "2. Conduct cutting-edge research that advances the field of engineering and has a positive impact on society.\n",
            "3. Foster an inclusive and diverse community that values and promotes collaboration, innovation, and creativity.\n",
            "4. Engage\n",
            "Generated (after fine-tune):  The College's approach to financial sustainability involves a combination of strategic planning, cost management, and revenue generation initiatives. The College's leadership team works closely with faculty, staff, and stakeholders to develop and implement a long-term financial plan that ensures the College's financial stability and sustainability. This includes monitoring expenses, identifying cost savings opportunities, and exploring new revenue streams, such as grants, partnerships\n",
            "Generated (after fine-tune):  Certainly! Here are some examples of research areas at CCSIT:\n",
            "1. Artificial Intelligence and Machine Learning: Researchers at CCSIT are working on developing advanced machine learning algorithms and AI systems that can learn from data and make decisions autonomously.\n",
            "2. Computer Vision and Image Processing: Researchers are working on developing advanced computer vision techniques to enable machines to interpret and understand visual information from the world around them.\n",
            "3. Data Mining\n",
            "Generated (after fine-tune):  The Vice Deanship works closely with the College departments to ensure that all academic and administrative matters are running smoothly. The coordination between the Vice Deanship and the departments involves regular communication and collaboration to address any issues that may arise. The Vice Deanship provides support and guidance to the departments, and works with them to develop and implement policies and procedures that support the College's mission and goals. Additionally, the Vice Deanship is responsible for overseeing the\n",
            "Generated (after fine-tune):  The Computer Science Department is a department within a university or college that offers academic programs and research opportunities in the field of computer science. The department typically offers undergraduate and graduate degrees in computer science, as well as specialized programs in areas such as artificial intelligence, computer graphics, and cybersecurity. The faculty members of the department are experts in their fields and conduct research in areas such as algorithms, programming languages, and computer systems. The department also offers courses in computer science\n",
            "Generated (after fine-tune):  The focus of the Networks and Communications Department is on the design, implementation, and maintenance of computer networks and communication systems. This includes the development of network protocols, network security measures, and the optimization of network performance. The department also works on research and development of new communication technologies and their applications.\n",
            "Generated (after fine-tune):  Sure, I'd be happy to provide more information about the programs offered in the Computer Science and Mathematics departments.\n",
            "In the Computer Science department, there are a variety of programs available at both the undergraduate and graduate levels. At the undergraduate level, students can pursue a Bachelor of Science in Computer Science, which provides a strong foundation in the fundamentals of computer science, including programming, data structures, algorithms, and computer systems. Additionally, students can\n",
            "Generated (after fine-tune):  Yes, the Bachelor of Science in Cybersecurity and Digital Forensics program at the University of Maryland University College has several notable achievements. The program has been recognized by the National Security Agency (NSA) and the Department of Homeland Security (DHS) as a Center of Academic Excellence in Cybersecurity Education (CAE-C). This designation is a testament to the quality of the program and its ability to prepare students for careers in cyber\n",
            "Generated (after fine-tune):  The Program Educational Objectives (PEOs) are the broad statements that describe the career and professional goals that the department envisions its graduates achieving a few years after graduation. PEOs are developed to align with the mission of the institution and the program outcomes. They are typically expressed in terms of the expected accomplishments, contributions, and impact of the graduates in their professional careers. PEOs are reviewed and updated periodically to ensure that they remain\n",
            "Generated (after fine-tune):  The Bachelor of Science in Computer Information Systems program is designed to provide students with a strong foundation in both computer science and business principles. Students can expect to gain knowledge and skills in areas such as database management, network administration, software development, and project management. They will also learn how to apply technology to solve real-world business problems and improve organizational efficiency. Graduates of this program are prepared for careers in a variety of industries, including healthcare, finance, ret\n",
            "Generated (after fine-tune):  The department offers a postgraduate program in Computer Science and Engineering. The program is designed to provide students with advanced knowledge and skills in the field of computer science and engineering. The program is research-oriented and focuses on providing students with the necessary skills to conduct research in their chosen area of specialization. The program also provides students with the opportunity to work on real-world projects and gain practical experience in the field. The program is designed to prepare students for careers in academia,\n",
            "Generated (after fine-tune):  The Department of Computer Information Systems at the University of North Alabama is home to a highly skilled and dedicated faculty who are committed to providing students with a top-notch education in the field of computer information systems. The faculty members in the department bring a wealth of experience and expertise to the classroom, having worked in a variety of industries and academic settings. They are actively involved in research and stay up-to-date with the latest developments in the field, incorpor\n",
            "Generated (after fine-tune):  Graduates of the Bachelor of Science in Computer Science program can pursue a variety of career opportunities in the technology industry. Some potential job titles for computer science graduates include software developer, systems analyst, database administrator, network administrator, and information security analyst. Graduates may work for technology companies, government agencies, healthcare organizations, financial institutions, or educational institutions. With additional education and experience, some graduates may also pursue advanced roles such as computer and information\n",
            "Generated (after fine-tune):  Certainly! The Master of Science in Computer Science program is a graduate-level program that focuses on the advanced study of computer science concepts and principles. The program is designed to provide students with a deep understanding of computer science theory and practice, as well as the skills and knowledge needed to excel in the field.\n",
            "The program typically takes two years to complete and includes coursework in areas such as algorithms, data structures, computer architecture, programming languages, and software engineering. Students also\n",
            "Generated (after fine-tune):  The Saudi Aramco Chair for Cyber Security is an academic program established in 2018 at King Fahd University of Petroleum and Minerals (KFUPM) in Dhahran, Saudi Arabia. The program is funded by Saudi Aramco, the state-owned oil company of Saudi Arabia, and is designed to promote research and education in the field of cyber security.\n",
            "The Saudi Aramco\n",
            "Generated (after fine-tune):  The financier's representative to the chair is typically the person who is responsible for managing the financier's investments and assets. This person may be a financial advisor, portfolio manager, or another professional with experience in finance and investment management.\n",
            "Generated (after fine-tune):  The Gates Cambridge Scholarship is a highly competitive and prestigious scholarship program for outstanding graduate students from outside the United Kingdom to pursue a full-time postgraduate degree at the University of Cambridge. The scholarship covers the full cost of studying at Cambridge, including tuition fees, maintenance allowance, and other expenses. The scholarship is available for over 100 courses, including PhD programs, Master's programs, and one-\n",
            "Generated (after fine-tune):  To get involved in the sub-initiatives or access the resources provided, one can visit the official website of the United Nations Sustainable Development Goals (SDGs) at www.un.org/sustainabledevelopment/sustainable-development-goals/. From there, they can explore the various sub-initiatives and resources related to each goal. Additionally, they can also follow the official SDGs social media channels and join relevant online communities\n",
            "Generated (after fine-tune):  The Scientific Cooperation and Exchange of Experiences Initiative is a key component of the Saudi Aramco Cybersecurity Chair at King Fahd University of Petroleum and Minerals (KFUPM) in Dhahran, Saudi Arabia. The initiative aims to promote collaboration and knowledge exchange between KFUPM and other academic institutions, research centers, and industry partners around the world.\n",
            "Through this initiative,\n",
            "Generated (after fine-tune):  The COVID-19 pandemic has created new opportunities for cybercriminals to exploit vulnerabilities and launch attacks. With the increase in remote work and online activity, there has been a surge in cybercrime, including phishing, malware, and ransomware attacks. Cybercriminals are taking advantage of the fear and uncertainty caused by the pandemic to trick people into giving away personal information or clicking on malicious links. Additionally, the rapid\n",
            "Generated (after fine-tune):  As a cybersecurity student, you can expect to learn about various topics such as network security, cryptography, risk management, and cyber attack prevention. You will gain knowledge about different types of cyber threats and how to protect against them. You will also learn about various security tools and technologies used in the industry. Additionally, you may have the opportunity to participate in hands-on projects and internships to gain practical experience.\n",
            "Generated (after fine-tune):  Certainly! The workshops mentioned in the conversation are likely referring to coding workshops or programming workshops. These are typically hands-on sessions where participants learn how to write code and develop software programs. They may cover a variety of programming languages and topics, such as web development, mobile app development, data analysis, and more. The workshops are often led by experienced developers or instructors and can be found at various locations, including community centers, libraries, schools\n",
            "Generated (after fine-tune):  The first recent research publication in cybersecurity was \"Computer Networks: The Heralds of Resource Sharing\" by Paul Baran in 1964. This publication introduced the concept of packet switching, which is a key technology used in modern computer networks and the internet. Baran's work laid the foundation for the development of network security and cybersecurity as we know it today.\n",
            "Generated (after fine-tune):  The fourth recent research publication in cybersecurity is titled \"A Survey on Machine Learning and Deep Learning Approaches for Cybersecurity\" by M. A. Matin, M. A. Islam, and M. A. Khan. This survey paper provides an overview of the current state of machine learning and deep learning approaches in cybersecurity. The authors discuss various machine learning and deep learning techniques used in cybersecurity, including supervised learning, unsupervised learning, and reinfor\n",
            "Generated (after fine-tune):  Derma is an ongoing research project that aims to develop a deep learning-based system for the detection of skin diseases in children. The project focuses on using image processing techniques to analyze dermatological images and classify them into different categories of skin diseases. The system is designed to be user-friendly and accessible to non-experts, making it easier for parents and caregivers to monitor and manage their children's skin health. The project is still in\n",
            "Generated (after fine-tune):  The project 'Predictive Artificial Intelligence Technique for Detecting Alzheimer’s' is a research project that aims to develop an AI-based system to predict the onset of Alzheimer's disease in its early stages. The system will use machine learning algorithms to analyze various data sources, such as medical records, genetic information, and cognitive tests, to identify patterns and risk factors associated with the development of Alzheimer's.\n",
            "Generated (after fine-tune):  The project 'Preemptive Diagnosis of Cervical Cancer, Multiple Sclerosis, and Schizophrenia Using Computational Intelligence Techniques' is a research project that aims to develop a diagnostic tool for early detection of cervical cancer, multiple sclerosis, and schizophrenia using computational intelligence techniques. The project involves the use of machine learning algorithms, data mining, and pattern recognition techniques to analyze medical data and identify\n",
            "Generated (after fine-tune):  The project 'AI-Powered Chatbot for Customer Support' is about developing an artificial intelligence-based chatbot that can assist customers with their queries and concerns in a timely and efficient manner. The chatbot will be designed to understand natural language and provide relevant responses to customer inquiries. The goal of the project is to improve customer satisfaction and reduce the workload of customer support teams by providing a 24/7 virtual assistant that can handle a large volume of customer interactions.\n",
            "Generated (after fine-tune):  Sure! The 'Emotion Recognition from Facial Expressions' project is an AI-based system that can identify and classify human emotions by analyzing facial expressions. The system uses machine learning algorithms to detect specific facial features and patterns associated with different emotions, such as happiness, sadness, anger, fear, surprise, and disgust. The system can be trained on large datasets of labeled facial expressions to improve its accuracy and performance. The goal\n",
            "Generated (after fine-tune):  Dr. Garsah Farhan Alqarni is a Saudi Arabian researcher and academic in the field of Islamic studies. He is a specialist in the history of Islamic civilization, particularly in the areas of Islamic law, jurisprudence, and Islamic political thought. Dr. Alqarni holds a PhD in Islamic Studies from the University of Edinburgh, where he wrote his thesis on the history of Islamic law and jurisprud\n",
            "Generated (after fine-tune):  Dr. Rachid Zagrouba is a Moroccan-American scientist and researcher in the field of nanotechnology and materials science. He is known for his work in developing new materials and technologies for various applications, including energy storage, water purification, and drug delivery. Dr. Zagrouba has published numerous research papers and holds several patents in his field. He is also a respected lecturer and has taught at several universities in the United States\n",
            "Generated (after fine-tune):  Dr. Rami Mustafa AbdelRahman is a medical doctor and researcher specializing in internal medicine and cardiology. He received his medical degree from the University of Damascus in Syria and completed his residency training in internal medicine at the University of Texas Health Science Center in Houston, Texas. Dr. AbdelRahman also completed a fellowship in cardiology at the University of Texas Health Science Center and is board-certified in both internal\n",
            "Generated (after fine-tune):  Dr. Dhiaa A. Musleh is a highly skilled and experienced orthopedic surgeon who specializes in sports medicine and arthroscopy. He received his medical degree from the University of Baghdad, College of Medicine in 1990, and completed his residency in orthopedic surgery at the University of Baghdad, Al-Yarmouk Teaching Hospital in 1995. Dr. Musleh\n",
            "Generated (after fine-tune):  Dr. Farmanullah Jan is a well-known Afghan politician and former diplomat. He served as the Foreign Minister of Afghanistan from 2002 to 2006 and was also the Ambassador of Afghanistan to the United States from 2007 to 2010. Dr. Jan has a PhD in Political Science from the University of Toronto and has been a prominent figure in Afghan politics for many years. He is known for his efforts\n",
            "Generated (after fine-tune):  Dr. Samiha Brahimi is a French-Algerian mathematician and professor at the University of Paris-Sud. She is known for her work in the field of algebraic geometry, particularly in the areas of moduli spaces and vector bundles. Dr. Brahimi has made significant contributions to the understanding of the geometry of moduli spaces of vector bundles on algebraic curves, and has been recognized for her research with several awards, including the Prix Servant of the\n",
            "Generated (after fine-tune):  Yasir Alguwaifli is a professional racing driver from the United Arab Emirates. He was born on October 1, 1991, in Abu Dhabi. Alguwaifli began his racing career in karting at the age of 10 and quickly moved up the ranks, winning numerous championships in the process. In 2010, he made the switch to car racing, competing in the Formula Gulf \n",
            "Generated (after fine-tune):  Dr. Nawaf Alharbi is a Saudi Arabian national who was initially identified as a person of interest in the 2013 Boston Marathon bombing. However, he was later cleared of any involvement in the attack and his name was removed from the list of suspects. Dr. Alharbi is a graduate of the King Abdulaziz University in Saudi Arabia, where he earned a degree in Sharia and Law. He later obtained a\n",
            "Generated (after fine-tune):  Khalid Mohamed Hassan Aloub is a Saudi Arabian businessman and philanthropist. He is the founder and chairman of the Aloub Group, a conglomerate with interests in construction, real estate, and hospitality. Aloub is also known for his philanthropic work, particularly in the areas of education and healthcare. He has established several foundations and endowed scholarships to support students in Saudi Arabia and around the\n",
            "Generated (after fine-tune):  Amal Hadi Alhajri is a Bahraini professional footballer who plays as a midfielder for Al-Muharraq Club in the Bahraini Premier League. He is also a member of the Bahrain national football team. Alhajri has represented Bahrain in various international competitions, including the AFC Asian Cup and the Gulf Cup of Nations.\n",
            "Generated (after fine-tune):  Gomathi Krishna is an Indian middle-distance runner who specializes in the 800 meters event. She was born on 10th October 1993 in Tiruchengode, Tamil Nadu, India. She started her athletic career at a young age and was trained by her coach, K. Rajaram.\n",
            "Gomathi Krishna made her international debut in 2013 when she participated in the Asian Athletics\n",
            "Generated (after fine-tune):  Mamoun Masoud Ibrahim Abdulqader is a Syrian national who was arrested in 2004 and charged with conspiracy to provide material support to terrorists and conspiracy to kill U.S. nationals abroad. He was found guilty in 2005 and sentenced to life in prison. Abdulqader was a member of the Islamic Group, a militant organization that sought to overthrow the Egyptian government and establish an Islam\n",
            "Generated (after fine-tune):  The vision of the Alumni and Career Development Center is to empower and support the personal and professional growth of our students and alumni by providing comprehensive career development services, fostering lifelong connections, and cultivating a culture of engagement and success.\n"
          ]
        }
      ]
    },
    {
      "cell_type": "code",
      "source": [
        "final_df.head()"
      ],
      "metadata": {
        "colab": {
          "base_uri": "https://localhost:8080/",
          "height": 258
        },
        "id": "aqQMEhkaSEXq",
        "outputId": "975507c0-35ca-41a1-9407-23aba54df689"
      },
      "execution_count": 23,
      "outputs": [
        {
          "output_type": "execute_result",
          "data": {
            "text/plain": [
              "                                         instruction  \\\n",
              "0  ### Instruction: What is the student populatio...   \n",
              "1  ### Instruction: When was the College of Compu...   \n",
              "2  ### Instruction: What are some of the goals of...   \n",
              "3  ### Instruction: What is the College's approac...   \n",
              "4  ### Instruction: Can you share some examples o...   \n",
              "\n",
              "                                            response  \\\n",
              "0  ### Response:The student population of the uni...   \n",
              "1  ### Response:The College was established in 2010.   \n",
              "2  ### Response:Goals include offering quality ed...   \n",
              "3  ### Response:The College aims to strengthen fi...   \n",
              "4  ### Response:Research areas at CCSIT include a...   \n",
              "\n",
              "                                   Generate Response  \n",
              "0   I'm sorry but I don't have any information ab...  \n",
              "1   The College of Computer Science and Informati...  \n",
              "2   The goals of the College of Engineering at th...  \n",
              "3   The College's approach to financial sustainab...  \n",
              "4   Certainly! Here are some examples of research...  "
            ],
            "text/html": [
              "\n",
              "  <div id=\"df-dbae6887-2f77-478d-906b-7c057c7bd1fb\" class=\"colab-df-container\">\n",
              "    <div>\n",
              "<style scoped>\n",
              "    .dataframe tbody tr th:only-of-type {\n",
              "        vertical-align: middle;\n",
              "    }\n",
              "\n",
              "    .dataframe tbody tr th {\n",
              "        vertical-align: top;\n",
              "    }\n",
              "\n",
              "    .dataframe thead th {\n",
              "        text-align: right;\n",
              "    }\n",
              "</style>\n",
              "<table border=\"1\" class=\"dataframe\">\n",
              "  <thead>\n",
              "    <tr style=\"text-align: right;\">\n",
              "      <th></th>\n",
              "      <th>instruction</th>\n",
              "      <th>response</th>\n",
              "      <th>Generate Response</th>\n",
              "    </tr>\n",
              "  </thead>\n",
              "  <tbody>\n",
              "    <tr>\n",
              "      <th>0</th>\n",
              "      <td>### Instruction: What is the student populatio...</td>\n",
              "      <td>### Response:The student population of the uni...</td>\n",
              "      <td>I'm sorry but I don't have any information ab...</td>\n",
              "    </tr>\n",
              "    <tr>\n",
              "      <th>1</th>\n",
              "      <td>### Instruction: When was the College of Compu...</td>\n",
              "      <td>### Response:The College was established in 2010.</td>\n",
              "      <td>The College of Computer Science and Informati...</td>\n",
              "    </tr>\n",
              "    <tr>\n",
              "      <th>2</th>\n",
              "      <td>### Instruction: What are some of the goals of...</td>\n",
              "      <td>### Response:Goals include offering quality ed...</td>\n",
              "      <td>The goals of the College of Engineering at th...</td>\n",
              "    </tr>\n",
              "    <tr>\n",
              "      <th>3</th>\n",
              "      <td>### Instruction: What is the College's approac...</td>\n",
              "      <td>### Response:The College aims to strengthen fi...</td>\n",
              "      <td>The College's approach to financial sustainab...</td>\n",
              "    </tr>\n",
              "    <tr>\n",
              "      <th>4</th>\n",
              "      <td>### Instruction: Can you share some examples o...</td>\n",
              "      <td>### Response:Research areas at CCSIT include a...</td>\n",
              "      <td>Certainly! Here are some examples of research...</td>\n",
              "    </tr>\n",
              "  </tbody>\n",
              "</table>\n",
              "</div>\n",
              "    <div class=\"colab-df-buttons\">\n",
              "\n",
              "  <div class=\"colab-df-container\">\n",
              "    <button class=\"colab-df-convert\" onclick=\"convertToInteractive('df-dbae6887-2f77-478d-906b-7c057c7bd1fb')\"\n",
              "            title=\"Convert this dataframe to an interactive table.\"\n",
              "            style=\"display:none;\">\n",
              "\n",
              "  <svg xmlns=\"http://www.w3.org/2000/svg\" height=\"24px\" viewBox=\"0 -960 960 960\">\n",
              "    <path d=\"M120-120v-720h720v720H120Zm60-500h600v-160H180v160Zm220 220h160v-160H400v160Zm0 220h160v-160H400v160ZM180-400h160v-160H180v160Zm440 0h160v-160H620v160ZM180-180h160v-160H180v160Zm440 0h160v-160H620v160Z\"/>\n",
              "  </svg>\n",
              "    </button>\n",
              "\n",
              "  <style>\n",
              "    .colab-df-container {\n",
              "      display:flex;\n",
              "      gap: 12px;\n",
              "    }\n",
              "\n",
              "    .colab-df-convert {\n",
              "      background-color: #E8F0FE;\n",
              "      border: none;\n",
              "      border-radius: 50%;\n",
              "      cursor: pointer;\n",
              "      display: none;\n",
              "      fill: #1967D2;\n",
              "      height: 32px;\n",
              "      padding: 0 0 0 0;\n",
              "      width: 32px;\n",
              "    }\n",
              "\n",
              "    .colab-df-convert:hover {\n",
              "      background-color: #E2EBFA;\n",
              "      box-shadow: 0px 1px 2px rgba(60, 64, 67, 0.3), 0px 1px 3px 1px rgba(60, 64, 67, 0.15);\n",
              "      fill: #174EA6;\n",
              "    }\n",
              "\n",
              "    .colab-df-buttons div {\n",
              "      margin-bottom: 4px;\n",
              "    }\n",
              "\n",
              "    [theme=dark] .colab-df-convert {\n",
              "      background-color: #3B4455;\n",
              "      fill: #D2E3FC;\n",
              "    }\n",
              "\n",
              "    [theme=dark] .colab-df-convert:hover {\n",
              "      background-color: #434B5C;\n",
              "      box-shadow: 0px 1px 3px 1px rgba(0, 0, 0, 0.15);\n",
              "      filter: drop-shadow(0px 1px 2px rgba(0, 0, 0, 0.3));\n",
              "      fill: #FFFFFF;\n",
              "    }\n",
              "  </style>\n",
              "\n",
              "    <script>\n",
              "      const buttonEl =\n",
              "        document.querySelector('#df-dbae6887-2f77-478d-906b-7c057c7bd1fb button.colab-df-convert');\n",
              "      buttonEl.style.display =\n",
              "        google.colab.kernel.accessAllowed ? 'block' : 'none';\n",
              "\n",
              "      async function convertToInteractive(key) {\n",
              "        const element = document.querySelector('#df-dbae6887-2f77-478d-906b-7c057c7bd1fb');\n",
              "        const dataTable =\n",
              "          await google.colab.kernel.invokeFunction('convertToInteractive',\n",
              "                                                    [key], {});\n",
              "        if (!dataTable) return;\n",
              "\n",
              "        const docLinkHtml = 'Like what you see? Visit the ' +\n",
              "          '<a target=\"_blank\" href=https://colab.research.google.com/notebooks/data_table.ipynb>data table notebook</a>'\n",
              "          + ' to learn more about interactive tables.';\n",
              "        element.innerHTML = '';\n",
              "        dataTable['output_type'] = 'display_data';\n",
              "        await google.colab.output.renderOutput(dataTable, element);\n",
              "        const docLink = document.createElement('div');\n",
              "        docLink.innerHTML = docLinkHtml;\n",
              "        element.appendChild(docLink);\n",
              "      }\n",
              "    </script>\n",
              "  </div>\n",
              "\n",
              "\n",
              "<div id=\"df-78cd615e-9d2d-4574-a8db-0e38c7fdd91d\">\n",
              "  <button class=\"colab-df-quickchart\" onclick=\"quickchart('df-78cd615e-9d2d-4574-a8db-0e38c7fdd91d')\"\n",
              "            title=\"Suggest charts\"\n",
              "            style=\"display:none;\">\n",
              "\n",
              "<svg xmlns=\"http://www.w3.org/2000/svg\" height=\"24px\"viewBox=\"0 0 24 24\"\n",
              "     width=\"24px\">\n",
              "    <g>\n",
              "        <path d=\"M19 3H5c-1.1 0-2 .9-2 2v14c0 1.1.9 2 2 2h14c1.1 0 2-.9 2-2V5c0-1.1-.9-2-2-2zM9 17H7v-7h2v7zm4 0h-2V7h2v10zm4 0h-2v-4h2v4z\"/>\n",
              "    </g>\n",
              "</svg>\n",
              "  </button>\n",
              "\n",
              "<style>\n",
              "  .colab-df-quickchart {\n",
              "      --bg-color: #E8F0FE;\n",
              "      --fill-color: #1967D2;\n",
              "      --hover-bg-color: #E2EBFA;\n",
              "      --hover-fill-color: #174EA6;\n",
              "      --disabled-fill-color: #AAA;\n",
              "      --disabled-bg-color: #DDD;\n",
              "  }\n",
              "\n",
              "  [theme=dark] .colab-df-quickchart {\n",
              "      --bg-color: #3B4455;\n",
              "      --fill-color: #D2E3FC;\n",
              "      --hover-bg-color: #434B5C;\n",
              "      --hover-fill-color: #FFFFFF;\n",
              "      --disabled-bg-color: #3B4455;\n",
              "      --disabled-fill-color: #666;\n",
              "  }\n",
              "\n",
              "  .colab-df-quickchart {\n",
              "    background-color: var(--bg-color);\n",
              "    border: none;\n",
              "    border-radius: 50%;\n",
              "    cursor: pointer;\n",
              "    display: none;\n",
              "    fill: var(--fill-color);\n",
              "    height: 32px;\n",
              "    padding: 0;\n",
              "    width: 32px;\n",
              "  }\n",
              "\n",
              "  .colab-df-quickchart:hover {\n",
              "    background-color: var(--hover-bg-color);\n",
              "    box-shadow: 0 1px 2px rgba(60, 64, 67, 0.3), 0 1px 3px 1px rgba(60, 64, 67, 0.15);\n",
              "    fill: var(--button-hover-fill-color);\n",
              "  }\n",
              "\n",
              "  .colab-df-quickchart-complete:disabled,\n",
              "  .colab-df-quickchart-complete:disabled:hover {\n",
              "    background-color: var(--disabled-bg-color);\n",
              "    fill: var(--disabled-fill-color);\n",
              "    box-shadow: none;\n",
              "  }\n",
              "\n",
              "  .colab-df-spinner {\n",
              "    border: 2px solid var(--fill-color);\n",
              "    border-color: transparent;\n",
              "    border-bottom-color: var(--fill-color);\n",
              "    animation:\n",
              "      spin 1s steps(1) infinite;\n",
              "  }\n",
              "\n",
              "  @keyframes spin {\n",
              "    0% {\n",
              "      border-color: transparent;\n",
              "      border-bottom-color: var(--fill-color);\n",
              "      border-left-color: var(--fill-color);\n",
              "    }\n",
              "    20% {\n",
              "      border-color: transparent;\n",
              "      border-left-color: var(--fill-color);\n",
              "      border-top-color: var(--fill-color);\n",
              "    }\n",
              "    30% {\n",
              "      border-color: transparent;\n",
              "      border-left-color: var(--fill-color);\n",
              "      border-top-color: var(--fill-color);\n",
              "      border-right-color: var(--fill-color);\n",
              "    }\n",
              "    40% {\n",
              "      border-color: transparent;\n",
              "      border-right-color: var(--fill-color);\n",
              "      border-top-color: var(--fill-color);\n",
              "    }\n",
              "    60% {\n",
              "      border-color: transparent;\n",
              "      border-right-color: var(--fill-color);\n",
              "    }\n",
              "    80% {\n",
              "      border-color: transparent;\n",
              "      border-right-color: var(--fill-color);\n",
              "      border-bottom-color: var(--fill-color);\n",
              "    }\n",
              "    90% {\n",
              "      border-color: transparent;\n",
              "      border-bottom-color: var(--fill-color);\n",
              "    }\n",
              "  }\n",
              "</style>\n",
              "\n",
              "  <script>\n",
              "    async function quickchart(key) {\n",
              "      const quickchartButtonEl =\n",
              "        document.querySelector('#' + key + ' button');\n",
              "      quickchartButtonEl.disabled = true;  // To prevent multiple clicks.\n",
              "      quickchartButtonEl.classList.add('colab-df-spinner');\n",
              "      try {\n",
              "        const charts = await google.colab.kernel.invokeFunction(\n",
              "            'suggestCharts', [key], {});\n",
              "      } catch (error) {\n",
              "        console.error('Error during call to suggestCharts:', error);\n",
              "      }\n",
              "      quickchartButtonEl.classList.remove('colab-df-spinner');\n",
              "      quickchartButtonEl.classList.add('colab-df-quickchart-complete');\n",
              "    }\n",
              "    (() => {\n",
              "      let quickchartButtonEl =\n",
              "        document.querySelector('#df-78cd615e-9d2d-4574-a8db-0e38c7fdd91d button');\n",
              "      quickchartButtonEl.style.display =\n",
              "        google.colab.kernel.accessAllowed ? 'block' : 'none';\n",
              "    })();\n",
              "  </script>\n",
              "</div>\n",
              "    </div>\n",
              "  </div>\n"
            ]
          },
          "metadata": {},
          "execution_count": 23
        }
      ]
    },
    {
      "cell_type": "code",
      "source": [
        "file_path = 'first_trail_Llama2.csv'\n",
        "final_df.to_csv(file_path, index=False)"
      ],
      "metadata": {
        "id": "NPUsgVt7SWQp"
      },
      "execution_count": 24,
      "outputs": []
    }
  ]
}