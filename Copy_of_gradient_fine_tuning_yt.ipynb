{
  "nbformat": 4,
  "nbformat_minor": 0,
  "metadata": {
    "colab": {
      "provenance": []
    },
    "kernelspec": {
      "name": "python3",
      "display_name": "Python 3"
    },
    "language_info": {
      "name": "python"
    }
  },
  "cells": [
    {
      "cell_type": "code",
      "source": [
        "!pip install gradientai --upgrade"
      ],
      "metadata": {
        "id": "wak76xYYUdXE",
        "colab": {
          "base_uri": "https://localhost:8080/"
        },
        "outputId": "b53aa225-ae21-4dd6-c004-aff26aaee510"
      },
      "execution_count": 1,
      "outputs": [
        {
          "output_type": "stream",
          "name": "stdout",
          "text": [
            "Collecting gradientai\n",
            "  Downloading gradientai-1.2.0-py3-none-any.whl (166 kB)\n",
            "\u001b[2K     \u001b[90m━━━━━━━━━━━━━━━━━━━━━━━━━━━━━━━━━━━━━━━━\u001b[0m \u001b[32m166.3/166.3 kB\u001b[0m \u001b[31m3.4 MB/s\u001b[0m eta \u001b[36m0:00:00\u001b[0m\n",
            "\u001b[?25hCollecting aenum>=3.1.11 (from gradientai)\n",
            "  Downloading aenum-3.1.15-py3-none-any.whl (137 kB)\n",
            "\u001b[2K     \u001b[90m━━━━━━━━━━━━━━━━━━━━━━━━━━━━━━━━━━━━━━━━\u001b[0m \u001b[32m137.6/137.6 kB\u001b[0m \u001b[31m15.9 MB/s\u001b[0m eta \u001b[36m0:00:00\u001b[0m\n",
            "\u001b[?25hRequirement already satisfied: pydantic<2.0.0,>=1.10.5 in /usr/local/lib/python3.10/dist-packages (from gradientai) (1.10.13)\n",
            "Requirement already satisfied: python-dateutil>=2.8.2 in /usr/local/lib/python3.10/dist-packages (from gradientai) (2.8.2)\n",
            "Requirement already satisfied: urllib3>=1.25.3 in /usr/local/lib/python3.10/dist-packages (from gradientai) (2.0.7)\n",
            "Requirement already satisfied: typing-extensions>=4.2.0 in /usr/local/lib/python3.10/dist-packages (from pydantic<2.0.0,>=1.10.5->gradientai) (4.5.0)\n",
            "Requirement already satisfied: six>=1.5 in /usr/local/lib/python3.10/dist-packages (from python-dateutil>=2.8.2->gradientai) (1.16.0)\n",
            "Installing collected packages: aenum, gradientai\n",
            "Successfully installed aenum-3.1.15 gradientai-1.2.0\n"
          ]
        }
      ]
    },
    {
      "cell_type": "code",
      "source": [
        "import os\n",
        "os.environ['GRADIENT_ACCESS_TOKEN'] = \"jNHWNUDxYWCDA5FL3eM9LWUkVf4nto2d\"\n",
        "os.environ['GRADIENT_WORKSPACE_ID'] = \"fc9472b9-21be-4136-b210-5a9abdb5c169_workspace\""
      ],
      "metadata": {
        "id": "U02ytLrPA2rG"
      },
      "execution_count": 2,
      "outputs": []
    },
    {
      "cell_type": "code",
      "source": [
        "from gradientai import Gradient\n",
        "\n",
        "def main():\n",
        "  with Gradient() as gradient:\n",
        "\n",
        "      #nous-hermes2 is a fine tuned vesion of Llama-2 13B Nous Hermes 2\n",
        "      base_model = gradient.get_base_model(base_model_slug=\"nous-hermes2\")\n",
        "\n",
        "      #make a copy of the base model aims to fine-tuned\n",
        "      new_model_adapter = base_model.create_model_adapter(\n",
        "          name=\"test model 3\"\n",
        "      )\n",
        "      print(f\"Created model adapter with id {new_model_adapter.id}\")\n",
        "      sample_query = \"### Instruction: tell me about College of Computer Science and Information Technology at IAU? \\n\\n### Response:\"\n",
        "      print(f\"Asking: {sample_query}\")\n",
        "\n",
        "      # before fine-tuning\n",
        "      completion = new_model_adapter.complete(query=sample_query, max_generated_token_count=100).generated_output\n",
        "      print(f\"Generated (before fine-tune): {completion}\")\n",
        "\n",
        "      samples = data\n",
        "\n",
        "      # this is where fine-tuning happens\n",
        "      # num_epochs is the number of times you fine-tune the model\n",
        "      # more epochs tends to get better results, but you also run the risk of \"overfitting\"\n",
        "      # play around with this number to find what works best for you\n",
        "      num_epochs = 3\n",
        "      count = 0\n",
        "      while count < num_epochs:\n",
        "          print(f\"Fine-tuning the model, iteration {count + 1}\")\n",
        "          new_model_adapter.fine_tune(samples=samples)\n",
        "          count = count + 1\n",
        "\n",
        "      # after fine-tuning\n",
        "      completion = new_model_adapter.complete(query=sample_query, max_generated_token_count=100).generated_output\n",
        "      print(f\"Generated (after fine-tune): {completion}\")\n",
        "\n",
        "      #new_model_adapter.delete()\n",
        "\n",
        "if __name__ == \"__main__\":\n",
        "    main()"
      ],
      "metadata": {
        "id": "Scor9o08VVhQ",
        "colab": {
          "base_uri": "https://localhost:8080/"
        },
        "outputId": "ee48e2d0-d545-4c9d-80b3-bcea168ec961"
      },
      "execution_count": 7,
      "outputs": [
        {
          "output_type": "stream",
          "name": "stdout",
          "text": [
            "Created model adapter with id 0891524e-d09f-49e3-a782-2975586647c1_model_adapter\n",
            "Asking: ### Instruction: tell me about College of Computer Science and Information Technology at IAU? \n",
            "\n",
            "### Response:\n",
            "Generated (before fine-tune): The College of Computer Science and Information Technology at Islamic Azad University (IAU) is one of the leading colleges in the field of computer science and information technology in Iran. The college offers a wide range of undergraduate and graduate programs in various fields of computer science and information technology, including computer engineering, software engineering, information technology, network and communication engineering, and artificial intelligence.\n",
            "\n",
            "The college has highly qualified faculty members who are experts in their fields and are dedicated\n",
            "Fine-tuning the model, iteration 1\n",
            "Fine-tuning the model, iteration 2\n",
            "Fine-tuning the model, iteration 3\n",
            "Generated (after fine-tune): The College of Computer Science and Information Technology at IAU is one of the leading colleges in the field of computer science and information technology in the Kingdom of Saudi Arabia. The college offers a variety of undergraduate and graduate programs in computer science, information technology, and cybersecurity. The college has highly qualified faculty members who are experts in their fields and are dedicated to providing students with the best education possible. The college also has state-of-the-art labor\n"
          ]
        }
      ]
    },
    {
      "cell_type": "code",
      "source": [
        "data=[\n",
        "    {\n",
        "        \"inputs\": \"### Instruction: Tell me about Imam Abdulrahman Bin Faisal University.\\n\\n### Response: Imam Abdulrahman Bin Faisal University opened its doors to women and men in 1975 with two pioneering colleges - the College of Medicine and the College of Architecture.\"\n",
        "    },\n",
        "    {\n",
        "        \"inputs\": \"### Instruction: How many colleges does the university have now?\\n\\n### Response: The university now has 21 colleges.\"\n",
        "    },\n",
        "    {\n",
        "        \"inputs\": \"### Instruction: What is the student population of the IAU university?\\n\\n### Response: The student population of the university is over 45,000.\"\n",
        "    },\n",
        "    {\n",
        "        \"inputs\": \"### Instruction: What is the focus of Imam Abdulrahman Bin Faisal University as an institution?\\n\\n### Response: Imam Abdulrahman Bin Faisal University is a preeminent research-based institution. It continually assesses and improves its curricula and expands its academic capabilities in all disciplines.\"\n",
        "    },\n",
        "    {\n",
        "        \"inputs\": \"### Instruction: How does the university engage the public?\\n\\n### Response: The university engages the public in addressing environmental and community challenges.\"\n",
        "    },\n",
        "    {\n",
        "        \"inputs\": \"### Instruction: Why is IAU considered one of the well-respected research institutions in the Kingdom?\\n\\n### Response: IAU is considered well-respected due to the prolific faculty and researchers who have made great strides across all disciplines and the numerous research entities associated with it.\"\n",
        "    },\n",
        "    {\n",
        "        \"inputs\": \"### Instruction: Can you name some of the research centers at IAU?\\n\\n### Response: Some of the research centers at IAU include the Deanship for Scientific Research, The Prince Mohamed Bin Fahd Center for Research and Consultation Studies, the Center for Scientific Publications, the Center for Urban Studies, and the new Center for Patents and Technology Transfer.\"\n",
        "    },\n",
        "    {\n",
        "        \"inputs\": \"### Instruction: Tell me about the College of Computer Science and Information Technology at Imam Abdulrahman bin Faisal University.\\n\\n### Response: The College of Computer Science and Information Technology is one of the largest colleges at Imam Abdulrahman bin Faisal University.\"\n",
        "    },\n",
        "    {\n",
        "        \"inputs\": \"### Instruction: When was the College of Computer Science and Information Technology established?\\n\\n### Response: The College was established in 2010.\"\n",
        "    },\n",
        "    {\n",
        "        \"inputs\": \"### Instruction: What programs does the Computer Science and Information Technology College offer?\\n\\n### Response: The College offers four undergraduate programs: Bachelor of Science in Computer Science, Bachelor of Science in Computer Information Systems, Bachelor of Science in Cyber Security and Digital Forensics, and Bachelor of Science in Artificial Intelligence. They also offer a Master of Science in Computer Science (MSCS) with special majors like Big Data and Cloud Computing, Information Security, and Software Engineering.\"\n",
        "    },\n",
        "    {\n",
        "        \"inputs\": \"### Instruction: What are some of the elective courses available in the programs?\\n\\n### Response: Elective courses include Data Mining and Warehousing, Modeling and Simulation, Expert Systems, Advanced Programming Languages, Advanced Software Engineering, Knowledge Management and Information Retrieval, Multi-Agents, Computer Vision and Computer Graphics, Advanced Operating Systems, Mobile Application Programming, Distributed Systems, Advanced Computer Networks, Advanced Digital Investigation, Multimedia Security, File System, and Forensic Analysis.\"\n",
        "    },\n",
        "    {\n",
        "        \"inputs\": \"### Instruction: What language is used for teaching and learning at the College?\\n\\n### Response: The College adopts the English language as the language of teaching and learning.\"\n",
        "    },\n",
        "    {\n",
        "        \"inputs\": \"### Instruction: What is the vision of the College?\\n\\n### Response: The vision is to be a leading computing college at national, regional, and global levels.\"\n",
        "    },\n",
        "    {\n",
        "        \"inputs\": \"### Instruction: What is the mission of the College?\\n\\n### Response: The mission is to provide quality computing education, discovery, and professional services with community engagements.\"\n",
        "    },\n",
        "    {\n",
        "        \"inputs\": \"### Instruction: What are some of the goals of the College?\\n\\n### Response: Goals include offering quality education in the computing domain, stimulating collaborative research, facilitating community services, recruiting high-caliber faculty and staff, improving infrastructure, and developing a robust management system.\"\n",
        "    },\n",
        "    {\n",
        "        \"inputs\": \"### Instruction: What are the core values of the College?\\n\\n### Response: The core values are loyalty, excellence, teamwork, transparency, diversity, creativity, and social responsibility.\"\n",
        "    },\n",
        "    {\n",
        "        \"inputs\": \"### Instruction: What is the College's commitment to education?\\n\\n### Response: The College is committed to providing its students with an innovative and state-of-the-art computer science curriculum to meet the demand for skilled professionals in the job market.\"\n",
        "    },\n",
        "    {\n",
        "        \"inputs\": \"### Instruction: Tell me more about the postgraduate program.\\n\\n### Response: The postgraduate program is the Master of Science in Computer Science (MSCS) with special majors such as Big Data and Cloud Computing, Information Security, and Software Engineering.\"\n",
        "    },\n",
        "    {\n",
        "        \"inputs\": \"### Instruction: How does the College engage in research and innovation?\\n\\n### Response: The College stimulates creative intra and inter-college collaborative research to advance the field of computer science and information technology.\"\n",
        "    },\n",
        "    {\n",
        "        \"inputs\": \"### Instruction: What steps are taken to upgrade infrastructure and computing laboratories?\\n\\n### Response: Efforts are made to continually upgrade infrastructure and computing laboratories to ensure a conducive learning and research environment for students and faculty.\"\n",
        "    },\n",
        "    {\n",
        "        \"inputs\": \"### Instruction: How does the College advocate social integration?\\n\\n### Response: The College advocates social integration by facilitating a culture of community services and promoting diversity among students and faculty.\"\n",
        "    },\n",
        "    {\n",
        "        \"inputs\": \"### Instruction: What is the College's approach to financial sustainability?\\n\\n### Response: The College aims to strengthen financial self-sustenance and promote an entrepreneurship culture within the institution.\"\n",
        "    },\n",
        "    {\n",
        "        \"inputs\": \"### Instruction: Tell me more about the College's values, especially 'Loyalty' and 'Excellence.'\\n\\n### Response: Loyalty and excellence are among the core values, emphasizing dedication to the College's mission and a commitment to achieving the highest standards of education and research.\"\n",
        "    },\n",
        "    {\n",
        "        \"inputs\": \"### Instruction: Can you tell me more about the College's strategic plan?\\n\\n### Response: Certainly! The College's strategic plan aims to be a leading institution producing capable graduates who contribute to technology development and transfer. They will also be a source of research and innovation to support the knowledge-based economy in Saudi Arabia.\"\n",
        "    },\n",
        "    {\n",
        "        \"inputs\": \"### Instruction: How does the College provide an inspirational learning environment?\\n\\n### Response: The College focuses on developing leadership skills, maintaining high standards and values, fostering creativity, promoting teamwork, encouraging lifelong learning, and helping students build a strong sense of their future career.\"\n",
        "    },\n",
        "    {\n",
        "        \"inputs\": \"### Instruction: Tell me more about the academic departments at CCSIT.\\n\\n### Response: CCSIT has four academic departments that offer Bachelor of Science degrees (BS) in Computer Science, Computer Information Systems, Cyberspace Security and Digital Forensics, and Artificial Intelligence.\"\n",
        "    }\n",
        "]"
      ],
      "metadata": {
        "id": "BJnsOKkUPdJB"
      },
      "execution_count": 5,
      "outputs": []
    }
  ]
}