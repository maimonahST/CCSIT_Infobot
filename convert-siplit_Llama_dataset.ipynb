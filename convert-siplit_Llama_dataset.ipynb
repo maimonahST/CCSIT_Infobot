{
 "cells": [
  {
   "cell_type": "markdown",
   "id": "7c85bc50",
   "metadata": {},
   "source": [
    "# Convert to the data format we will use with Llama model"
   ]
  },
  {
   "cell_type": "code",
   "execution_count": 2,
   "id": "8bbb82aa",
   "metadata": {},
   "outputs": [
    {
     "name": "stdout",
     "output_type": "stream",
     "text": [
      "Formatted data has been written to output.json\n"
     ]
    }
   ],
   "source": [
    "import json\n",
    "\n",
    "# Specify the input JSONL file\n",
    "input_file = \"dataset.jsonl\"\n",
    "\n",
    "output_data = []\n",
    "\n",
    "with open(input_file, 'r') as file:\n",
    "    for line in file:\n",
    "        item = json.loads(line)\n",
    "        user_message = item[\"messages\"][1][\"content\"]\n",
    "        assistant_message = item[\"messages\"][2][\"content\"]\n",
    "        formatted_data = {\n",
    "            \"inputs\": f\"### Instruction: {user_message}\\n\\n### Response: {assistant_message}\"\n",
    "        }\n",
    "        output_data.append(formatted_data)\n",
    "\n",
    "# Write the output data to a JSON file\n",
    "output_file = \"output.json\"\n",
    "\n",
    "with open(output_file, 'w') as file:\n",
    "    json.dump(output_data, file, indent=4)\n",
    "\n",
    "print(f\"Formatted data has been written to {output_file}\")"
   ]
  },
  {
   "cell_type": "markdown",
   "id": "32166bdb",
   "metadata": {},
   "source": [
    "# Siplit the data 80% for training and 20% for validation"
   ]
  },
  {
   "cell_type": "code",
   "execution_count": 3,
   "id": "0dc214bc",
   "metadata": {},
   "outputs": [
    {
     "name": "stdout",
     "output_type": "stream",
     "text": [
      "Split 196 lines to train.csv and 49 lines to validation.csv\n"
     ]
    }
   ],
   "source": [
    "import json\n",
    "import random\n",
    "\n",
    "# Define the path for your input JSON file (output.json)\n",
    "input_file_path = 'output.json' \n",
    "train_output_path = 'train.csv'\n",
    "validation_output_path = 'validation.csv'\n",
    "\n",
    "# Define the split ratio (80% for training and 20% for validation)\n",
    "split_ratio = 0.8\n",
    "\n",
    "# Open the input JSON file (output.json) for reading\n",
    "with open(input_file_path, 'r', encoding='utf-8') as input_file:\n",
    "\n",
    "    # Load the JSON data from the file\n",
    "    data = json.load(input_file)\n",
    "\n",
    "# Shuffle the data randomly\n",
    "random.shuffle(data)\n",
    "\n",
    "# Determine the split point based on the split_ratio\n",
    "split_point = int(len(data) * split_ratio)\n",
    "\n",
    "# Split the data into training and validation sets\n",
    "train_set = data[:split_point]\n",
    "validation_set = data[split_point:]\n",
    "\n",
    "# Write the training set to the training output file\n",
    "with open(train_output_path, 'w', encoding='utf-8') as train_output_file:\n",
    "    json.dump(train_set, train_output_file, indent=4)\n",
    "\n",
    "# Write the validation set to the validation output file\n",
    "with open(validation_output_path, 'w', encoding='utf-8') as validation_output_file:\n",
    "    json.dump(validation_set, validation_output_file, indent=4)\n",
    "\n",
    "print(f\"Split {len(train_set)} lines to {train_output_path} and {len(validation_set)} lines to {validation_output_path}\")\n"
   ]
  },
  {
   "cell_type": "code",
   "execution_count": null,
   "id": "39888e9a",
   "metadata": {},
   "outputs": [],
   "source": []
  }
 ],
 "metadata": {
  "kernelspec": {
   "display_name": "Python 3 (ipykernel)",
   "language": "python",
   "name": "python3"
  },
  "language_info": {
   "codemirror_mode": {
    "name": "ipython",
    "version": 3
   },
   "file_extension": ".py",
   "mimetype": "text/x-python",
   "name": "python",
   "nbconvert_exporter": "python",
   "pygments_lexer": "ipython3",
   "version": "3.9.12"
  }
 },
 "nbformat": 4,
 "nbformat_minor": 5
}
