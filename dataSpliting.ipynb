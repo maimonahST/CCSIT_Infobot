{
  "nbformat": 4,
  "nbformat_minor": 0,
  "metadata": {
    "colab": {
      "provenance": [],
      "authorship_tag": "ABX9TyNJhomnkQv0XD7W+AP2tScx",
      "include_colab_link": true
    },
    "kernelspec": {
      "name": "python3",
      "display_name": "Python 3"
    },
    "language_info": {
      "name": "python"
    }
  },
  "cells": [
    {
      "cell_type": "markdown",
      "metadata": {
        "id": "view-in-github",
        "colab_type": "text"
      },
      "source": [
        "<a href=\"https://colab.research.google.com/github/maimonahST/CCSIT_Infobot/blob/main/dataSpliting.ipynb\" target=\"_parent\"><img src=\"https://colab.research.google.com/assets/colab-badge.svg\" alt=\"Open In Colab\"/></a>"
      ]
    },
    {
      "cell_type": "code",
      "execution_count": 1,
      "metadata": {
        "colab": {
          "base_uri": "https://localhost:8080/"
        },
        "id": "2ufz8Xccavdt",
        "outputId": "c595412e-846c-4768-c607-0978c511c169"
      },
      "outputs": [
        {
          "output_type": "stream",
          "name": "stdout",
          "text": [
            "Split 196 lines to train.jsonl and 49 lines to validation.jsonl\n"
          ]
        }
      ],
      "source": [
        "import json\n",
        "import random\n",
        "\n",
        "# Define the paths for your input JSONL file and the output training and validation files\n",
        "input_file_path = '/content/dataset.jsonl'\n",
        "train_output_path = 'train.jsonl'\n",
        "validation_output_path = 'validation.jsonl'\n",
        "\n",
        "# Define the split ratio (e.g., 80% for training and 20% for validation)\n",
        "split_ratio = 0.8\n",
        "\n",
        "# Open the input JSONL file for reading\n",
        "with open(input_file_path, 'r', encoding='utf-8') as input_file:\n",
        "\n",
        "    # Read the JSONL lines into a list\n",
        "    lines = input_file.readlines()\n",
        "\n",
        "# Shuffle the lines randomly\n",
        "random.shuffle(lines)\n",
        "\n",
        "# Determine the split point based on the split_ratio\n",
        "split_point = int(len(lines) * split_ratio)\n",
        "\n",
        "# Split the lines into training and validation sets\n",
        "train_set = lines[:split_point]\n",
        "validation_set = lines[split_point:]\n",
        "\n",
        "# Write the training set to the training output file\n",
        "with open(train_output_path, 'w', encoding='utf-8') as train_output_file:\n",
        "    train_output_file.writelines(train_set)\n",
        "\n",
        "# Write the validation set to the validation output file\n",
        "with open(validation_output_path, 'w', encoding='utf-8') as validation_output_file:\n",
        "    validation_output_file.writelines(validation_set)\n",
        "\n",
        "print(f\"Split {len(train_set)} lines to {train_output_path} and {len(validation_set)} lines to {validation_output_path}\")\n"
      ]
    }
  ]
}